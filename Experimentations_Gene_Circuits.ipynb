{
  "nbformat": 4,
  "nbformat_minor": 0,
  "metadata": {
    "colab": {
      "provenance": [],
      "gpuType": "T4"
    },
    "kernelspec": {
      "name": "python3",
      "display_name": "Python 3"
    },
    "language_info": {
      "name": "python"
    },
    "accelerator": "GPU"
  },
  "cells": [
    {
      "cell_type": "markdown",
      "source": [
        "#Import the Libraries"
      ],
      "metadata": {
        "id": "3WmIYzdyKTMy"
      }
    },
    {
      "cell_type": "code",
      "execution_count": null,
      "metadata": {
        "colab": {
          "base_uri": "https://localhost:8080/"
        },
        "id": "kIgrNAT9r_bW",
        "outputId": "1e015325-6f02-4b58-b4e5-0ce714458641"
      },
      "outputs": [
        {
          "output_type": "stream",
          "name": "stderr",
          "text": [
            "WARNING:tensorflow:From /usr/local/lib/python3.10/dist-packages/tensorflow/python/compat/v2_compat.py:107: disable_resource_variables (from tensorflow.python.ops.variable_scope) is deprecated and will be removed in a future version.\n",
            "Instructions for updating:\n",
            "non-resource variables are not supported in the long term\n"
          ]
        }
      ],
      "source": [
        "import numpy as np\n",
        "import matplotlib.pyplot as plt\n",
        "import tensorflow.compat.v1 as tf\n",
        "tf.disable_v2_behavior()"
      ]
    },
    {
      "cell_type": "markdown",
      "source": [
        "#Define the parameters"
      ],
      "metadata": {
        "id": "2E2MJT5pKYge"
      }
    },
    {
      "cell_type": "code",
      "source": [
        "##Parameters\n",
        "B \t\t= 128    \t#batch size\n",
        "N \t\t= 300\t\t#timesteps\n",
        "S \t\t= 3\t\t \t#number of species\n",
        "dt \t\t= 0.01\t\t#time interval\n",
        "L1 \t\t= 0.02 \t\t#L1 regularization parameter"
      ],
      "metadata": {
        "id": "1l4CEVVFJZn6"
      },
      "execution_count": null,
      "outputs": []
    },
    {
      "cell_type": "markdown",
      "source": [
        "#Training"
      ],
      "metadata": {
        "id": "xV56AEpQKgCa"
      }
    },
    {
      "cell_type": "markdown",
      "source": [
        "##Data placeholders"
      ],
      "metadata": {
        "id": "wJF86gyeKlbC"
      }
    },
    {
      "cell_type": "code",
      "source": [
        "input_ \t\t= tf.placeholder(tf.float32, shape=[N, B, S])\n",
        "output_ \t= tf.placeholder(tf.float32, shape=[B])\n",
        "initial_ \t= tf.placeholder(tf.float32, shape=[B, S])"
      ],
      "metadata": {
        "id": "YSnnO3hyJgfJ"
      },
      "execution_count": null,
      "outputs": []
    },
    {
      "cell_type": "markdown",
      "source": [
        "##Define variables"
      ],
      "metadata": {
        "id": "DHdzRb4_KqBf"
      }
    },
    {
      "cell_type": "code",
      "source": [
        "W = tf.Variable(tf.random_normal([S,S], mean = 0, stddev = 0.1, dtype = tf.float32))\n",
        "A = tf.Variable(1.0, dtype = tf.float32)"
      ],
      "metadata": {
        "id": "3feTYxMGJjIW"
      },
      "execution_count": null,
      "outputs": []
    },
    {
      "cell_type": "markdown",
      "source": [
        "##Non-Lineraity Function"
      ],
      "metadata": {
        "id": "q4k6q4-BKt__"
      }
    },
    {
      "cell_type": "code",
      "source": [
        "##Nonlinearity chosen\n",
        "def phi(x):\n",
        "\treturn 1/(tf.exp(-x)+1)"
      ],
      "metadata": {
        "id": "YVdKBh1LJmWV"
      },
      "execution_count": null,
      "outputs": []
    },
    {
      "cell_type": "markdown",
      "source": [
        "##ODE Function"
      ],
      "metadata": {
        "id": "vnlFdYlFK0H_"
      }
    },
    {
      "cell_type": "code",
      "source": [
        "##ODE function\n",
        "def simulate(input_, initial_, W):\n",
        "\toutput = tf.scan(lambda o,i: o + dt*(phi(tf.matmul(o,W))-o+i),\n",
        "\t\t\t\t\t\t\telems = input_,\n",
        "\t\t\t\t\t\t\tinitializer = initial_,\n",
        "\t\t\t\t\t\t\tswap_memory = True)\n",
        "\treturn output\n",
        "\n",
        "\n",
        "output = simulate(input_, initial_, W)"
      ],
      "metadata": {
        "id": "keza73_nJpec"
      },
      "execution_count": null,
      "outputs": []
    },
    {
      "cell_type": "markdown",
      "source": [
        "##Train the function"
      ],
      "metadata": {
        "id": "5HEdjucCK28b"
      }
    },
    {
      "cell_type": "code",
      "source": [
        "## Training function\n",
        "relevantOutput \t= A*output[N-1,:,1]\n",
        "## Without regularization\n",
        "cost = tf.reduce_mean(tf.square(((relevantOutput - output_))))\n",
        "train_step = tf.train.AdamOptimizer(learning_rate=0.2, beta1=0.98, beta2=0.999, epsilon=1e-08).minimize(cost)\n",
        "## With regularization\n",
        "costL1 = tf.reduce_mean(tf.square(((relevantOutput - output_)))) + L1*tf.reduce_mean(tf.abs(W))\n",
        "train_stepL1 = tf.train.AdamOptimizer(learning_rate=0.2, beta1=0.98, beta2=0.999, epsilon=1e-08).minimize(costL1)"
      ],
      "metadata": {
        "id": "zRT4OaoFJt9b"
      },
      "execution_count": null,
      "outputs": []
    },
    {
      "cell_type": "markdown",
      "source": [
        "#French-Flag Circuit"
      ],
      "metadata": {
        "id": "vQwyAbXzK8lT"
      }
    },
    {
      "cell_type": "code",
      "source": [
        "## Training data - here for a \"stripe\"\n",
        "def newBatch(plot=False):\n",
        "\tinitialVal\t\t= 0.1*np.ones([B,S])\n",
        "\tif(plot):\n",
        "\t\tinputNoNoise = np.linspace(0,2,B)\n",
        "\telse:\n",
        "\t\tinputNoNoise    = np.random.uniform(0,2,B)\n",
        "\tinputVal\t\t= inputNoNoise.reshape(B,1) * np.random.normal(loc=1.0, scale = 0.0001, size=[N,B,S])\n",
        "\tinputVal[:,:,1:S] = 0.0\n",
        "\toutputNoNoise  \t= np.zeros_like(inputNoNoise)\n",
        "\toutputNoNoise[np.logical_and(inputNoNoise > 0.5,inputNoNoise < 1.5 )] = 1.0\n",
        "\treturn [inputVal, outputNoNoise, initialVal]"
      ],
      "metadata": {
        "id": "xDbLsJwAJyIf"
      },
      "execution_count": null,
      "outputs": []
    },
    {
      "cell_type": "code",
      "source": [
        "## Training model function\n",
        "def trainModel(iterations,regularize=False,prune=False,pruneLimit=1,printing=False):\n",
        "\tmask = np.abs(sess.run(W)) > pruneLimit\n",
        "\tfor i in range(iterations):\n",
        "\t\t[inputVal, outputVal, initialVal] = newBatch()\n",
        "\t\tif(regularize):\n",
        "\t\t\tsess.run(train_stepL1, feed_dict = {input_: inputVal, initial_: initialVal, output_: outputVal})\n",
        "\t\telse:\n",
        "\t\t\tsess.run(train_step, feed_dict = {input_: inputVal, initial_: initialVal, output_: outputVal})\n",
        "\t\tif(printing):\n",
        "\t\t\tww = sess.run(cost, feed_dict = {input_: inputVal, initial_: initialVal, output_: outputVal})\n",
        "\t\t\tprint([ww, i])\n",
        "\t\tif(prune):\n",
        "\t\t\tapplyMask = W.assign(W*mask)\n",
        "\t\t\tsess.run(applyMask)"
      ],
      "metadata": {
        "id": "H79gvklgJ17L"
      },
      "execution_count": null,
      "outputs": []
    },
    {
      "cell_type": "markdown",
      "source": [
        "##Simulate the model"
      ],
      "metadata": {
        "id": "gyuPEFJYLMpo"
      }
    },
    {
      "cell_type": "code",
      "source": [
        "def simulateModel():\n",
        "\t[inputVal, outputVal, initialVal] = newBatch(plot=True)\n",
        "\tfinalOutput = sess.run(relevantOutput, feed_dict = {input_: inputVal, initial_: initialVal, output_: outputVal})\n",
        "\tweights = sess.run(W)\n",
        "\tprint(weights)\n",
        "\tplt.plot(finalOutput)\n",
        "\tplt.show()"
      ],
      "metadata": {
        "id": "3rRHtUOuJ524"
      },
      "execution_count": null,
      "outputs": []
    },
    {
      "cell_type": "markdown",
      "source": [
        "#Train Vanilla Network"
      ],
      "metadata": {
        "id": "xfscoROdLT7G"
      }
    },
    {
      "cell_type": "code",
      "source": [
        "## Train model\n",
        "\n",
        "sess = tf.InteractiveSession()\n",
        "tf.global_variables_initializer().run()\n",
        "trainModel(iterations=2000)\n",
        "simulateModel()"
      ],
      "metadata": {
        "colab": {
          "base_uri": "https://localhost:8080/",
          "height": 484
        },
        "id": "H2epGmMFJ9TW",
        "outputId": "becab2c6-78d1-4039-f9ed-e7efd5e06ab4"
      },
      "execution_count": null,
      "outputs": [
        {
          "output_type": "stream",
          "name": "stdout",
          "text": [
            "[[-15.084726   -3.8150778 -16.763454 ]\n",
            " [-19.546625   13.223277    4.9031396]\n",
            " [-21.29405    -9.324241   11.958691 ]]\n"
          ]
        },
        {
          "output_type": "display_data",
          "data": {
            "text/plain": [
              "<Figure size 640x480 with 1 Axes>"
            ],
            "image/png": "[encoded data removed]"
          },
          "metadata": {}
        }
      ]
    },
    {
      "cell_type": "markdown",
      "source": [
        "#Train regularised Network"
      ],
      "metadata": {
        "id": "HW3xrYDCLXie"
      }
    },
    {
      "cell_type": "code",
      "source": [
        "trainModel(iterations=1000, regularize=True)\n",
        "simulateModel()"
      ],
      "metadata": {
        "colab": {
          "base_uri": "https://localhost:8080/",
          "height": 484
        },
        "id": "ruUvQMuOKACs",
        "outputId": "c1b5e357-100f-4df4-cb4d-c1ea7c055c71"
      },
      "execution_count": null,
      "outputs": [
        {
          "output_type": "stream",
          "name": "stdout",
          "text": [
            "[[-1.3394367e+00 -2.2514699e+00 -5.2696414e+00]\n",
            " [-6.1989300e-02  9.3352098e+00  1.4993412e+00]\n",
            " [ 6.2283976e-03 -5.5784645e+00  6.8796911e+00]]\n"
          ]
        },
        {
          "output_type": "display_data",
          "data": {
            "text/plain": [
              "<Figure size 640x480 with 1 Axes>"
            ],
            "image/png": "[encoded data removed]"
          },
          "metadata": {}
        }
      ]
    },
    {
      "cell_type": "markdown",
      "source": [
        "#Train Pruned Network"
      ],
      "metadata": {
        "id": "AgjaCDRYLbso"
      }
    },
    {
      "cell_type": "code",
      "source": [
        "trainModel(iterations=1000, prune=True)\n",
        "simulateModel()"
      ],
      "metadata": {
        "colab": {
          "base_uri": "https://localhost:8080/",
          "height": 484
        },
        "id": "psxNGhtdKBwj",
        "outputId": "e65b3b1f-9c0d-4532-82dd-0296e18903d3"
      },
      "execution_count": null,
      "outputs": [
        {
          "output_type": "stream",
          "name": "stdout",
          "text": [
            "[[ -5.4916077  -3.0409937 -10.439149 ]\n",
            " [  0.         11.045034    3.6218123]\n",
            " [  0.         -7.5425506   9.877682 ]]\n"
          ]
        },
        {
          "output_type": "display_data",
          "data": {
            "text/plain": [
              "<Figure size 640x480 with 1 Axes>"
            ],
            "image/png": "[encoded data removed]"
          },
          "metadata": {}
        }
      ]
    },
    {
      "cell_type": "markdown",
      "source": [
        "#Switch Circuit"
      ],
      "metadata": {
        "id": "PajiukvpL3hs"
      }
    },
    {
      "cell_type": "code",
      "source": [
        "## Training data - here for a \"switch\"\n",
        "def newBatchswitch(plot=False):\n",
        "\tinitialVal\t\t= 0.1*np.ones([B,S])\n",
        "\tif(plot):\n",
        "\t\tinputNoNoise = np.linspace(0,2,B)\n",
        "\telse:\n",
        "\t\tinputNoNoise    = np.random.uniform(0,2,B)\n",
        "\tinputVal\t\t= inputNoNoise.reshape(B,1) * np.random.normal(loc=1.0, scale = 0.0001, size=[N,B,S])\n",
        "\tinputVal[:,:,1:S] = 0.0\n",
        "\toutputNoNoise  \t= np.zeros_like(inputNoNoise)\n",
        "\toutputNoNoise[np.logical_and(inputNoNoise > 1.0, inputNoNoise<2.0)] = 1.0\n",
        "\treturn [inputVal, outputNoNoise, initialVal]"
      ],
      "metadata": {
        "id": "8U9-PqyMM4Td"
      },
      "execution_count": null,
      "outputs": []
    },
    {
      "cell_type": "code",
      "source": [
        "## Training model function\n",
        "def trainModelswitch(iterations,regularize=False,prune=False,pruneLimit=1,printing=False):\n",
        "\tmask = np.abs(sess.run(W)) > pruneLimit\n",
        "\tfor i in range(iterations):\n",
        "\t\t[inputVal, outputVal, initialVal] = newBatchswitch()\n",
        "\t\tif(regularize):\n",
        "\t\t\tsess.run(train_stepL1, feed_dict = {input_: inputVal, initial_: initialVal, output_: outputVal})\n",
        "\t\telse:\n",
        "\t\t\tsess.run(train_step, feed_dict = {input_: inputVal, initial_: initialVal, output_: outputVal})\n",
        "\t\tif(printing):\n",
        "\t\t\tww = sess.run(cost, feed_dict = {input_: inputVal, initial_: initialVal, output_: outputVal})\n",
        "\t\t\tprint([ww, i])\n",
        "\t\tif(prune):\n",
        "\t\t\tapplyMask = W.assign(W*mask)\n",
        "\t\t\tsess.run(applyMask)"
      ],
      "metadata": {
        "id": "7d9Y-QpSNaYM"
      },
      "execution_count": null,
      "outputs": []
    },
    {
      "cell_type": "markdown",
      "source": [
        "##Simulate the model"
      ],
      "metadata": {
        "id": "TmwE0NQeNQpp"
      }
    },
    {
      "cell_type": "code",
      "source": [
        "def simulateModelswitch():\n",
        "\t[inputVal, outputVal, initialVal] = newBatchswitch(plot=True)\n",
        "\tfinalOutput = sess.run(relevantOutput, feed_dict = {input_: inputVal, initial_: initialVal, output_: outputVal})\n",
        "\tweights = sess.run(W)\n",
        "\tprint(weights)\n",
        "\tplt.plot(finalOutput)\n",
        "\tplt.show()"
      ],
      "metadata": {
        "id": "E8dsi04aNQpp"
      },
      "execution_count": null,
      "outputs": []
    },
    {
      "cell_type": "markdown",
      "source": [
        "##Train Vanilla Network"
      ],
      "metadata": {
        "id": "xFxfi4baMop3"
      }
    },
    {
      "cell_type": "code",
      "source": [
        "## Train model\n",
        "\n",
        "sess_switch = tf.InteractiveSession()\n",
        "tf.global_variables_initializer().run()\n",
        "trainModelswitch(iterations=2000)\n",
        "simulateModelswitch()"
      ],
      "metadata": {
        "colab": {
          "base_uri": "https://localhost:8080/",
          "height": 484
        },
        "outputId": "1c5e5f91-373e-4da6-e045-4ce9fc8dbcdf",
        "id": "JqX7b6QvMop4"
      },
      "execution_count": null,
      "outputs": [
        {
          "output_type": "stream",
          "name": "stdout",
          "text": [
            "[[ -8.213452     0.10115886 -11.967898  ]\n",
            " [ -4.3596287   11.323807     3.5634944 ]\n",
            " [ -4.4018207  -10.046391    16.758833  ]]\n"
          ]
        },
        {
          "output_type": "display_data",
          "data": {
            "text/plain": [
              "<Figure size 640x480 with 1 Axes>"
            ],
            "image/png": "[encoded data removed]"
          },
          "metadata": {}
        }
      ]
    },
    {
      "cell_type": "markdown",
      "source": [
        "##Train regularised Network"
      ],
      "metadata": {
        "id": "MraaRdb4Mop4"
      }
    },
    {
      "cell_type": "code",
      "source": [
        "trainModelswitch(iterations=1000, regularize=True)\n",
        "simulateModelswitch()"
      ],
      "metadata": {
        "colab": {
          "base_uri": "https://localhost:8080/",
          "height": 484
        },
        "outputId": "ff7ba87d-cce2-4785-a131-c1ca1ae021d2",
        "id": "GDKv1fumMop4"
      },
      "execution_count": null,
      "outputs": [
        {
          "output_type": "stream",
          "name": "stdout",
          "text": [
            "[[-2.7583638e-01 -6.6445256e-04 -4.5995321e+00]\n",
            " [-4.5559321e-02  3.3239603e+00  3.7401818e-02]\n",
            " [-7.2428174e-02 -4.4255552e+00  1.1082960e+01]]\n"
          ]
        },
        {
          "output_type": "display_data",
          "data": {
            "text/plain": [
              "<Figure size 640x480 with 1 Axes>"
            ],
            "image/png": "[encoded data removed]"
          },
          "metadata": {}
        }
      ]
    },
    {
      "cell_type": "markdown",
      "source": [
        "##Train Pruned Network"
      ],
      "metadata": {
        "id": "CtKAOFXOMop4"
      }
    },
    {
      "cell_type": "code",
      "source": [
        "trainModelswitch(iterations=1000, prune=True)\n",
        "simulateModelswitch()"
      ],
      "metadata": {
        "colab": {
          "base_uri": "https://localhost:8080/",
          "height": 484
        },
        "id": "O7PHV3F6Mop4",
        "outputId": "e743a817-9378-42ca-ba83-5f53187867c2"
      },
      "execution_count": null,
      "outputs": [
        {
          "output_type": "stream",
          "name": "stdout",
          "text": [
            "[[ 0.         0.        -6.1608777]\n",
            " [ 0.         6.9768314 -0.       ]\n",
            " [ 0.        -7.277479  14.047228 ]]\n"
          ]
        },
        {
          "output_type": "display_data",
          "data": {
            "text/plain": [
              "<Figure size 640x480 with 1 Axes>"
            ],
            "image/png": "[encoded data removed]"
          },
          "metadata": {}
        }
      ]
    },
    {
      "cell_type": "markdown",
      "source": [
        "#Duration Network Circuit"
      ],
      "metadata": {
        "id": "st3oDNj8O0U5"
      }
    },
    {
      "cell_type": "code",
      "source": [
        "## Training data - here for a \"switch\"\n",
        "def newBatchduration(plot=False):\n",
        "\tinitialVal\t\t= 0.1*np.ones([B,S])\n",
        "\tif(plot):\n",
        "\t\tinputNoNoise = np.linspace(0,2,B)\n",
        "\telse:\n",
        "\t\tdel_t = np.random.uniform(0,1/3,B)\n",
        "\t\tif(np.logical_and(t>1/6, t<(1/6+del_t))):\n",
        "\t\t\tinputNoNoise = 1\n",
        "\t\telse:\n",
        "\t\t\tinputNoNoise = 0\n",
        "\tinputVal\t\t= inputNoNoise.reshape(B,1) * np.random.normal(loc=1.0, scale = 0.0001, size=[N,B,S])\n",
        "\tinputVal[:,:,1:S] = 0.0\n",
        "\toutputNoNoise  \t= np.zeros_like(inputNoNoise)\n",
        "\toutputNoNoise[np.logical_and(del_t > 1/6, del_t<1/3)] = 1.0\n",
        "\treturn [inputVal, outputNoNoise, initialVal]"
      ],
      "metadata": {
        "id": "q6HRdV-jO0VF"
      },
      "execution_count": null,
      "outputs": []
    },
    {
      "cell_type": "code",
      "source": [
        "## Training model function\n",
        "def trainModelduration(iterations,regularize=False,prune=False,pruneLimit=1,printing=False):\n",
        "\tmask = np.abs(sess.run(W)) > pruneLimit\n",
        "\tfor i in range(iterations):\n",
        "\t\t[inputVal, outputVal, initialVal] = newBatchduration()\n",
        "\t\tif(regularize):\n",
        "\t\t\tsess.run(train_stepL1, feed_dict = {input_: inputVal, initial_: initialVal, output_: outputVal})\n",
        "\t\telse:\n",
        "\t\t\tsess.run(train_step, feed_dict = {input_: inputVal, initial_: initialVal, output_: outputVal})\n",
        "\t\tif(printing):\n",
        "\t\t\tww = sess.run(cost, feed_dict = {input_: inputVal, initial_: initialVal, output_: outputVal})\n",
        "\t\t\tprint([ww, i])\n",
        "\t\tif(prune):\n",
        "\t\t\tapplyMask = W.assign(W*mask)\n",
        "\t\t\tsess.run(applyMask)"
      ],
      "metadata": {
        "id": "isv-ICB1O0VG"
      },
      "execution_count": null,
      "outputs": []
    },
    {
      "cell_type": "markdown",
      "source": [
        "##Simulate the model"
      ],
      "metadata": {
        "id": "K4OAz-yNO0VG"
      }
    },
    {
      "cell_type": "code",
      "source": [
        "def simulateModelduration():\n",
        "\t[inputVal, outputVal, initialVal] = newBatchduration(plot=True)\n",
        "\tfinalOutput = sess.run(relevantOutput, feed_dict = {input_: inputVal, initial_: initialVal, output_: outputVal})\n",
        "\tweights = sess.run(W)\n",
        "\tprint(weights)\n",
        "\tplt.plot(finalOutput)\n",
        "\tplt.show()"
      ],
      "metadata": {
        "id": "PLpAExF-O0VG"
      },
      "execution_count": null,
      "outputs": []
    },
    {
      "cell_type": "markdown",
      "source": [
        "##Train Vanilla Network"
      ],
      "metadata": {
        "id": "OvWvejwOO0VG"
      }
    },
    {
      "cell_type": "code",
      "source": [
        "## Train model\n",
        "\n",
        "sess_switch = tf.InteractiveSession()\n",
        "tf.global_variables_initializer().run()\n",
        "trainModelduration(iterations=2000)\n",
        "simulateModelduration()"
      ],
      "metadata": {
        "colab": {
          "base_uri": "https://localhost:8080/",
          "height": 427
        },
        "id": "-kCdVY_OO0VG",
        "outputId": "7660af64-4cf5-4c61-f1c0-4f99549af296"
      },
      "execution_count": null,
      "outputs": [
        {
          "output_type": "stream",
          "name": "stderr",
          "text": [
            "/usr/local/lib/python3.10/dist-packages/tensorflow/python/client/session.py:1769: UserWarning: An interactive session is already active. This can cause out-of-memory errors in some cases. You must explicitly call `InteractiveSession.close()` to release resources held by the other session(s).\n",
            "  warnings.warn('An interactive session is already active. This can '\n"
          ]
        },
        {
          "output_type": "error",
          "ename": "NameError",
          "evalue": "ignored",
          "traceback": [
            "\u001b[0;31m---------------------------------------------------------------------------\u001b[0m",
            "\u001b[0;31mNameError\u001b[0m                                 Traceback (most recent call last)",
            "\u001b[0;32m<ipython-input-34-96c31e1a7ad3>\u001b[0m in \u001b[0;36m<cell line: 5>\u001b[0;34m()\u001b[0m\n\u001b[1;32m      3\u001b[0m \u001b[0msess_switch\u001b[0m \u001b[0;34m=\u001b[0m \u001b[0mtf\u001b[0m\u001b[0;34m.\u001b[0m\u001b[0mInteractiveSession\u001b[0m\u001b[0;34m(\u001b[0m\u001b[0;34m)\u001b[0m\u001b[0;34m\u001b[0m\u001b[0;34m\u001b[0m\u001b[0m\n\u001b[1;32m      4\u001b[0m \u001b[0mtf\u001b[0m\u001b[0;34m.\u001b[0m\u001b[0mglobal_variables_initializer\u001b[0m\u001b[0;34m(\u001b[0m\u001b[0;34m)\u001b[0m\u001b[0;34m.\u001b[0m\u001b[0mrun\u001b[0m\u001b[0;34m(\u001b[0m\u001b[0;34m)\u001b[0m\u001b[0;34m\u001b[0m\u001b[0;34m\u001b[0m\u001b[0m\n\u001b[0;32m----> 5\u001b[0;31m \u001b[0mtrainModelduration\u001b[0m\u001b[0;34m(\u001b[0m\u001b[0miterations\u001b[0m\u001b[0;34m=\u001b[0m\u001b[0;36m2000\u001b[0m\u001b[0;34m)\u001b[0m\u001b[0;34m\u001b[0m\u001b[0;34m\u001b[0m\u001b[0m\n\u001b[0m\u001b[1;32m      6\u001b[0m \u001b[0msimulateModelduration\u001b[0m\u001b[0;34m(\u001b[0m\u001b[0;34m)\u001b[0m\u001b[0;34m\u001b[0m\u001b[0;34m\u001b[0m\u001b[0m\n",
            "\u001b[0;32m<ipython-input-32-dd20e452471f>\u001b[0m in \u001b[0;36mtrainModelduration\u001b[0;34m(iterations, regularize, prune, pruneLimit, printing)\u001b[0m\n\u001b[1;32m      3\u001b[0m         \u001b[0mmask\u001b[0m \u001b[0;34m=\u001b[0m \u001b[0mnp\u001b[0m\u001b[0;34m.\u001b[0m\u001b[0mabs\u001b[0m\u001b[0;34m(\u001b[0m\u001b[0msess\u001b[0m\u001b[0;34m.\u001b[0m\u001b[0mrun\u001b[0m\u001b[0;34m(\u001b[0m\u001b[0mW\u001b[0m\u001b[0;34m)\u001b[0m\u001b[0;34m)\u001b[0m \u001b[0;34m>\u001b[0m \u001b[0mpruneLimit\u001b[0m\u001b[0;34m\u001b[0m\u001b[0;34m\u001b[0m\u001b[0m\n\u001b[1;32m      4\u001b[0m         \u001b[0;32mfor\u001b[0m \u001b[0mi\u001b[0m \u001b[0;32min\u001b[0m \u001b[0mrange\u001b[0m\u001b[0;34m(\u001b[0m\u001b[0miterations\u001b[0m\u001b[0;34m)\u001b[0m\u001b[0;34m:\u001b[0m\u001b[0;34m\u001b[0m\u001b[0;34m\u001b[0m\u001b[0m\n\u001b[0;32m----> 5\u001b[0;31m                 \u001b[0;34m[\u001b[0m\u001b[0minputVal\u001b[0m\u001b[0;34m,\u001b[0m \u001b[0moutputVal\u001b[0m\u001b[0;34m,\u001b[0m \u001b[0minitialVal\u001b[0m\u001b[0;34m]\u001b[0m \u001b[0;34m=\u001b[0m \u001b[0mnewBatchduration\u001b[0m\u001b[0;34m(\u001b[0m\u001b[0;34m)\u001b[0m\u001b[0;34m\u001b[0m\u001b[0;34m\u001b[0m\u001b[0m\n\u001b[0m\u001b[1;32m      6\u001b[0m                 \u001b[0;32mif\u001b[0m\u001b[0;34m(\u001b[0m\u001b[0mregularize\u001b[0m\u001b[0;34m)\u001b[0m\u001b[0;34m:\u001b[0m\u001b[0;34m\u001b[0m\u001b[0;34m\u001b[0m\u001b[0m\n\u001b[1;32m      7\u001b[0m                         \u001b[0msess\u001b[0m\u001b[0;34m.\u001b[0m\u001b[0mrun\u001b[0m\u001b[0;34m(\u001b[0m\u001b[0mtrain_stepL1\u001b[0m\u001b[0;34m,\u001b[0m \u001b[0mfeed_dict\u001b[0m \u001b[0;34m=\u001b[0m \u001b[0;34m{\u001b[0m\u001b[0minput_\u001b[0m\u001b[0;34m:\u001b[0m \u001b[0minputVal\u001b[0m\u001b[0;34m,\u001b[0m \u001b[0minitial_\u001b[0m\u001b[0;34m:\u001b[0m \u001b[0minitialVal\u001b[0m\u001b[0;34m,\u001b[0m \u001b[0moutput_\u001b[0m\u001b[0;34m:\u001b[0m \u001b[0moutputVal\u001b[0m\u001b[0;34m}\u001b[0m\u001b[0;34m)\u001b[0m\u001b[0;34m\u001b[0m\u001b[0;34m\u001b[0m\u001b[0m\n",
            "\u001b[0;32m<ipython-input-31-89f1624ae911>\u001b[0m in \u001b[0;36mnewBatchduration\u001b[0;34m(plot)\u001b[0m\n\u001b[1;32m      6\u001b[0m         \u001b[0;32melse\u001b[0m\u001b[0;34m:\u001b[0m\u001b[0;34m\u001b[0m\u001b[0;34m\u001b[0m\u001b[0m\n\u001b[1;32m      7\u001b[0m                 \u001b[0mdel_t\u001b[0m \u001b[0;34m=\u001b[0m \u001b[0mnp\u001b[0m\u001b[0;34m.\u001b[0m\u001b[0mrandom\u001b[0m\u001b[0;34m.\u001b[0m\u001b[0muniform\u001b[0m\u001b[0;34m(\u001b[0m\u001b[0;36m0\u001b[0m\u001b[0;34m,\u001b[0m\u001b[0;36m1\u001b[0m\u001b[0;34m/\u001b[0m\u001b[0;36m3\u001b[0m\u001b[0;34m,\u001b[0m\u001b[0mB\u001b[0m\u001b[0;34m)\u001b[0m\u001b[0;34m\u001b[0m\u001b[0;34m\u001b[0m\u001b[0m\n\u001b[0;32m----> 8\u001b[0;31m                 \u001b[0;32mif\u001b[0m\u001b[0;34m(\u001b[0m\u001b[0mnp\u001b[0m\u001b[0;34m.\u001b[0m\u001b[0mlogical_and\u001b[0m\u001b[0;34m(\u001b[0m\u001b[0mt\u001b[0m\u001b[0;34m>\u001b[0m\u001b[0;36m1\u001b[0m\u001b[0;34m/\u001b[0m\u001b[0;36m6\u001b[0m\u001b[0;34m,\u001b[0m \u001b[0mt\u001b[0m\u001b[0;34m<\u001b[0m\u001b[0;34m(\u001b[0m\u001b[0;36m1\u001b[0m\u001b[0;34m/\u001b[0m\u001b[0;36m6\u001b[0m\u001b[0;34m+\u001b[0m\u001b[0mdel_t\u001b[0m\u001b[0;34m)\u001b[0m\u001b[0;34m)\u001b[0m\u001b[0;34m)\u001b[0m\u001b[0;34m:\u001b[0m\u001b[0;34m\u001b[0m\u001b[0;34m\u001b[0m\u001b[0m\n\u001b[0m\u001b[1;32m      9\u001b[0m                         \u001b[0minputNoNoise\u001b[0m \u001b[0;34m=\u001b[0m \u001b[0;36m1\u001b[0m\u001b[0;34m\u001b[0m\u001b[0;34m\u001b[0m\u001b[0m\n\u001b[1;32m     10\u001b[0m                 \u001b[0;32melse\u001b[0m\u001b[0;34m:\u001b[0m\u001b[0;34m\u001b[0m\u001b[0;34m\u001b[0m\u001b[0m\n",
            "\u001b[0;31mNameError\u001b[0m: name 't' is not defined"
          ]
        }
      ]
    },
    {
      "cell_type": "markdown",
      "source": [
        "##Train regularised Network"
      ],
      "metadata": {
        "id": "OMt5vzX2O0VG"
      }
    },
    {
      "cell_type": "code",
      "source": [
        "trainModelduration(iterations=1000, regularize=True)\n",
        "simulateModelduration()"
      ],
      "metadata": {
        "colab": {
          "base_uri": "https://localhost:8080/",
          "height": 484
        },
        "outputId": "c1b5e357-100f-4df4-cb4d-c1ea7c055c71",
        "id": "1iv0Sg5-O0VG"
      },
      "execution_count": null,
      "outputs": [
        {
          "output_type": "stream",
          "name": "stdout",
          "text": [
            "[[-1.3394367e+00 -2.2514699e+00 -5.2696414e+00]\n",
            " [-6.1989300e-02  9.3352098e+00  1.4993412e+00]\n",
            " [ 6.2283976e-03 -5.5784645e+00  6.8796911e+00]]\n"
          ]
        },
        {
          "output_type": "display_data",
          "data": {
            "text/plain": [
              "<Figure size 640x480 with 1 Axes>"
            ],
            "image/png": "[encoded data removed]"
          },
          "metadata": {}
        }
      ]
    },
    {
      "cell_type": "markdown",
      "source": [
        "##Train Pruned Network"
      ],
      "metadata": {
        "id": "ioYcjLzrO0VG"
      }
    },
    {
      "cell_type": "code",
      "source": [
        "trainModelduration(iterations=1000, prune=True)\n",
        "simulateModelduration()"
      ],
      "metadata": {
        "id": "qHhNl9tPO0VG"
      },
      "execution_count": null,
      "outputs": []
    }
  ]
}